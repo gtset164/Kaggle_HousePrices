{
 "cells": [
  {
   "cell_type": "markdown",
   "metadata": {},
   "source": [
    "House Prices: Advanced Regression Techniques\n",
    "\n",
    "This project is a compeition in Kaggle with initially 79 features for the residential homes in Ames, Iowa. The goal of this challenge is to predict the final price of each home.\n",
    "As usual, data exploration, feature engineering are applied, then several machine learning models are built to predict the house price in the test set."
   ]
  },
  {
   "cell_type": "code",
   "execution_count": 1,
   "metadata": {
    "scrolled": true
   },
   "outputs": [],
   "source": [
    "import numpy as np\n",
    "import pandas as pd\n",
    "import matplotlib.pyplot as plt\n",
    "import seaborn as sns\n",
    "from sklearn.preprocessing import StandardScaler\n",
    "from sklearn.decomposition import PCA\n",
    "from sklearn.model_selection import train_test_split\n",
    "from sklearn.model_selection import KFold\n",
    "from sklearn.model_selection import cross_val_score\n",
    "from scipy.stats import skew\n",
    "%matplotlib inline\n",
    "\n",
    "df_train = pd.read_csv('train.csv')\n",
    "df_test = pd.read_csv('test.csv')"
   ]
  },
  {
   "cell_type": "markdown",
   "metadata": {},
   "source": [
    "Functions which are used in this project. They can also be reused in other projects."
   ]
  },
  {
   "cell_type": "code",
   "execution_count": 2,
   "metadata": {},
   "outputs": [],
   "source": [
    "# Returns a concatenated dataframe of training and test set on axis 0\n",
    "def concat_df(train_data, test_data):\n",
    "    return pd.concat([train_data, test_data], sort=True).reset_index(drop=True)\n",
    "\n",
    "# Returns divided dfs of training and test set\n",
    "def divide_df(all_data, sizeof_first):\n",
    "    return all_data.loc[:sizeof_first-1,:], all_data.loc[sizeof_first:,:]    \n",
    "\n",
    "# Onehot encoding function\n",
    "def onehot_features(data, cols):\n",
    "    multicols = data[cols]\n",
    "    multicols = multicols.astype(str)\n",
    "    one_hot = pd.get_dummies(multicols)\n",
    "    return one_hot\n",
    "\n",
    "# Feature scaling function\n",
    "def scaling(data,cols):\n",
    "    scaler = StandardScaler()\n",
    "    scaled_data = pd.DataFrame(scaler.fit_transform(data), cols)\n",
    "    return scaled_data\n",
    "\n",
    "# Map categorical strings in the features to numbers\n",
    "def map_category(series, mapping):\n",
    "    digit_data = series.map(mapping)\n",
    "    return digit_data\n",
    "\n",
    "#Function to measure accuracy.\n",
    "def rmlse(val, target):\n",
    "    return np.sqrt(np.sum(((np.log1p(val) - np.log1p(np.expm1(target)))**2) / len(target)))"
   ]
  },
  {
   "cell_type": "markdown",
   "metadata": {},
   "source": [
    "Data Exploration"
   ]
  },
  {
   "cell_type": "code",
   "execution_count": 3,
   "metadata": {},
   "outputs": [
    {
     "name": "stdout",
     "output_type": "stream",
     "text": [
      "(1460, 81)\n",
      "(1459, 80)\n"
     ]
    }
   ],
   "source": [
    "print(df_train.shape)\n",
    "print(df_test.shape)"
   ]
  },
  {
   "cell_type": "code",
   "execution_count": 4,
   "metadata": {},
   "outputs": [
    {
     "name": "stdout",
     "output_type": "stream",
     "text": [
      "<class 'pandas.core.frame.DataFrame'>\n",
      "RangeIndex: 1460 entries, 0 to 1459\n",
      "Data columns (total 81 columns):\n",
      "Id               1460 non-null int64\n",
      "MSSubClass       1460 non-null int64\n",
      "MSZoning         1460 non-null object\n",
      "LotFrontage      1201 non-null float64\n",
      "LotArea          1460 non-null int64\n",
      "Street           1460 non-null object\n",
      "Alley            91 non-null object\n",
      "LotShape         1460 non-null object\n",
      "LandContour      1460 non-null object\n",
      "Utilities        1460 non-null object\n",
      "LotConfig        1460 non-null object\n",
      "LandSlope        1460 non-null object\n",
      "Neighborhood     1460 non-null object\n",
      "Condition1       1460 non-null object\n",
      "Condition2       1460 non-null object\n",
      "BldgType         1460 non-null object\n",
      "HouseStyle       1460 non-null object\n",
      "OverallQual      1460 non-null int64\n",
      "OverallCond      1460 non-null int64\n",
      "YearBuilt        1460 non-null int64\n",
      "YearRemodAdd     1460 non-null int64\n",
      "RoofStyle        1460 non-null object\n",
      "RoofMatl         1460 non-null object\n",
      "Exterior1st      1460 non-null object\n",
      "Exterior2nd      1460 non-null object\n",
      "MasVnrType       1452 non-null object\n",
      "MasVnrArea       1452 non-null float64\n",
      "ExterQual        1460 non-null object\n",
      "ExterCond        1460 non-null object\n",
      "Foundation       1460 non-null object\n",
      "BsmtQual         1423 non-null object\n",
      "BsmtCond         1423 non-null object\n",
      "BsmtExposure     1422 non-null object\n",
      "BsmtFinType1     1423 non-null object\n",
      "BsmtFinSF1       1460 non-null int64\n",
      "BsmtFinType2     1422 non-null object\n",
      "BsmtFinSF2       1460 non-null int64\n",
      "BsmtUnfSF        1460 non-null int64\n",
      "TotalBsmtSF      1460 non-null int64\n",
      "Heating          1460 non-null object\n",
      "HeatingQC        1460 non-null object\n",
      "CentralAir       1460 non-null object\n",
      "Electrical       1459 non-null object\n",
      "1stFlrSF         1460 non-null int64\n",
      "2ndFlrSF         1460 non-null int64\n",
      "LowQualFinSF     1460 non-null int64\n",
      "GrLivArea        1460 non-null int64\n",
      "BsmtFullBath     1460 non-null int64\n",
      "BsmtHalfBath     1460 non-null int64\n",
      "FullBath         1460 non-null int64\n",
      "HalfBath         1460 non-null int64\n",
      "BedroomAbvGr     1460 non-null int64\n",
      "KitchenAbvGr     1460 non-null int64\n",
      "KitchenQual      1460 non-null object\n",
      "TotRmsAbvGrd     1460 non-null int64\n",
      "Functional       1460 non-null object\n",
      "Fireplaces       1460 non-null int64\n",
      "FireplaceQu      770 non-null object\n",
      "GarageType       1379 non-null object\n",
      "GarageYrBlt      1379 non-null float64\n",
      "GarageFinish     1379 non-null object\n",
      "GarageCars       1460 non-null int64\n",
      "GarageArea       1460 non-null int64\n",
      "GarageQual       1379 non-null object\n",
      "GarageCond       1379 non-null object\n",
      "PavedDrive       1460 non-null object\n",
      "WoodDeckSF       1460 non-null int64\n",
      "OpenPorchSF      1460 non-null int64\n",
      "EnclosedPorch    1460 non-null int64\n",
      "3SsnPorch        1460 non-null int64\n",
      "ScreenPorch      1460 non-null int64\n",
      "PoolArea         1460 non-null int64\n",
      "PoolQC           7 non-null object\n",
      "Fence            281 non-null object\n",
      "MiscFeature      54 non-null object\n",
      "MiscVal          1460 non-null int64\n",
      "MoSold           1460 non-null int64\n",
      "YrSold           1460 non-null int64\n",
      "SaleType         1460 non-null object\n",
      "SaleCondition    1460 non-null object\n",
      "SalePrice        1460 non-null int64\n",
      "dtypes: float64(3), int64(35), object(43)\n",
      "memory usage: 924.0+ KB\n"
     ]
    }
   ],
   "source": [
    "df_train.info()"
   ]
  },
  {
   "cell_type": "code",
   "execution_count": 5,
   "metadata": {},
   "outputs": [
    {
     "data": {
      "text/html": [
       "<div>\n",
       "<style scoped>\n",
       "    .dataframe tbody tr th:only-of-type {\n",
       "        vertical-align: middle;\n",
       "    }\n",
       "\n",
       "    .dataframe tbody tr th {\n",
       "        vertical-align: top;\n",
       "    }\n",
       "\n",
       "    .dataframe thead th {\n",
       "        text-align: right;\n",
       "    }\n",
       "</style>\n",
       "<table border=\"1\" class=\"dataframe\">\n",
       "  <thead>\n",
       "    <tr style=\"text-align: right;\">\n",
       "      <th></th>\n",
       "      <th>Id</th>\n",
       "      <th>MSSubClass</th>\n",
       "      <th>MSZoning</th>\n",
       "      <th>LotFrontage</th>\n",
       "      <th>LotArea</th>\n",
       "      <th>Street</th>\n",
       "      <th>Alley</th>\n",
       "      <th>LotShape</th>\n",
       "      <th>LandContour</th>\n",
       "      <th>Utilities</th>\n",
       "      <th>...</th>\n",
       "      <th>PoolArea</th>\n",
       "      <th>PoolQC</th>\n",
       "      <th>Fence</th>\n",
       "      <th>MiscFeature</th>\n",
       "      <th>MiscVal</th>\n",
       "      <th>MoSold</th>\n",
       "      <th>YrSold</th>\n",
       "      <th>SaleType</th>\n",
       "      <th>SaleCondition</th>\n",
       "      <th>SalePrice</th>\n",
       "    </tr>\n",
       "  </thead>\n",
       "  <tbody>\n",
       "    <tr>\n",
       "      <th>count</th>\n",
       "      <td>1460.000000</td>\n",
       "      <td>1460.000000</td>\n",
       "      <td>1460</td>\n",
       "      <td>1201.000000</td>\n",
       "      <td>1460.000000</td>\n",
       "      <td>1460</td>\n",
       "      <td>91</td>\n",
       "      <td>1460</td>\n",
       "      <td>1460</td>\n",
       "      <td>1460</td>\n",
       "      <td>...</td>\n",
       "      <td>1460.000000</td>\n",
       "      <td>7</td>\n",
       "      <td>281</td>\n",
       "      <td>54</td>\n",
       "      <td>1460.000000</td>\n",
       "      <td>1460.000000</td>\n",
       "      <td>1460.000000</td>\n",
       "      <td>1460</td>\n",
       "      <td>1460</td>\n",
       "      <td>1460.000000</td>\n",
       "    </tr>\n",
       "    <tr>\n",
       "      <th>unique</th>\n",
       "      <td>NaN</td>\n",
       "      <td>NaN</td>\n",
       "      <td>5</td>\n",
       "      <td>NaN</td>\n",
       "      <td>NaN</td>\n",
       "      <td>2</td>\n",
       "      <td>2</td>\n",
       "      <td>4</td>\n",
       "      <td>4</td>\n",
       "      <td>2</td>\n",
       "      <td>...</td>\n",
       "      <td>NaN</td>\n",
       "      <td>3</td>\n",
       "      <td>4</td>\n",
       "      <td>4</td>\n",
       "      <td>NaN</td>\n",
       "      <td>NaN</td>\n",
       "      <td>NaN</td>\n",
       "      <td>9</td>\n",
       "      <td>6</td>\n",
       "      <td>NaN</td>\n",
       "    </tr>\n",
       "    <tr>\n",
       "      <th>top</th>\n",
       "      <td>NaN</td>\n",
       "      <td>NaN</td>\n",
       "      <td>RL</td>\n",
       "      <td>NaN</td>\n",
       "      <td>NaN</td>\n",
       "      <td>Pave</td>\n",
       "      <td>Grvl</td>\n",
       "      <td>Reg</td>\n",
       "      <td>Lvl</td>\n",
       "      <td>AllPub</td>\n",
       "      <td>...</td>\n",
       "      <td>NaN</td>\n",
       "      <td>Gd</td>\n",
       "      <td>MnPrv</td>\n",
       "      <td>Shed</td>\n",
       "      <td>NaN</td>\n",
       "      <td>NaN</td>\n",
       "      <td>NaN</td>\n",
       "      <td>WD</td>\n",
       "      <td>Normal</td>\n",
       "      <td>NaN</td>\n",
       "    </tr>\n",
       "    <tr>\n",
       "      <th>freq</th>\n",
       "      <td>NaN</td>\n",
       "      <td>NaN</td>\n",
       "      <td>1151</td>\n",
       "      <td>NaN</td>\n",
       "      <td>NaN</td>\n",
       "      <td>1454</td>\n",
       "      <td>50</td>\n",
       "      <td>925</td>\n",
       "      <td>1311</td>\n",
       "      <td>1459</td>\n",
       "      <td>...</td>\n",
       "      <td>NaN</td>\n",
       "      <td>3</td>\n",
       "      <td>157</td>\n",
       "      <td>49</td>\n",
       "      <td>NaN</td>\n",
       "      <td>NaN</td>\n",
       "      <td>NaN</td>\n",
       "      <td>1267</td>\n",
       "      <td>1198</td>\n",
       "      <td>NaN</td>\n",
       "    </tr>\n",
       "    <tr>\n",
       "      <th>mean</th>\n",
       "      <td>730.500000</td>\n",
       "      <td>56.897260</td>\n",
       "      <td>NaN</td>\n",
       "      <td>70.049958</td>\n",
       "      <td>10516.828082</td>\n",
       "      <td>NaN</td>\n",
       "      <td>NaN</td>\n",
       "      <td>NaN</td>\n",
       "      <td>NaN</td>\n",
       "      <td>NaN</td>\n",
       "      <td>...</td>\n",
       "      <td>2.758904</td>\n",
       "      <td>NaN</td>\n",
       "      <td>NaN</td>\n",
       "      <td>NaN</td>\n",
       "      <td>43.489041</td>\n",
       "      <td>6.321918</td>\n",
       "      <td>2007.815753</td>\n",
       "      <td>NaN</td>\n",
       "      <td>NaN</td>\n",
       "      <td>180921.195890</td>\n",
       "    </tr>\n",
       "    <tr>\n",
       "      <th>std</th>\n",
       "      <td>421.610009</td>\n",
       "      <td>42.300571</td>\n",
       "      <td>NaN</td>\n",
       "      <td>24.284752</td>\n",
       "      <td>9981.264932</td>\n",
       "      <td>NaN</td>\n",
       "      <td>NaN</td>\n",
       "      <td>NaN</td>\n",
       "      <td>NaN</td>\n",
       "      <td>NaN</td>\n",
       "      <td>...</td>\n",
       "      <td>40.177307</td>\n",
       "      <td>NaN</td>\n",
       "      <td>NaN</td>\n",
       "      <td>NaN</td>\n",
       "      <td>496.123024</td>\n",
       "      <td>2.703626</td>\n",
       "      <td>1.328095</td>\n",
       "      <td>NaN</td>\n",
       "      <td>NaN</td>\n",
       "      <td>79442.502883</td>\n",
       "    </tr>\n",
       "    <tr>\n",
       "      <th>min</th>\n",
       "      <td>1.000000</td>\n",
       "      <td>20.000000</td>\n",
       "      <td>NaN</td>\n",
       "      <td>21.000000</td>\n",
       "      <td>1300.000000</td>\n",
       "      <td>NaN</td>\n",
       "      <td>NaN</td>\n",
       "      <td>NaN</td>\n",
       "      <td>NaN</td>\n",
       "      <td>NaN</td>\n",
       "      <td>...</td>\n",
       "      <td>0.000000</td>\n",
       "      <td>NaN</td>\n",
       "      <td>NaN</td>\n",
       "      <td>NaN</td>\n",
       "      <td>0.000000</td>\n",
       "      <td>1.000000</td>\n",
       "      <td>2006.000000</td>\n",
       "      <td>NaN</td>\n",
       "      <td>NaN</td>\n",
       "      <td>34900.000000</td>\n",
       "    </tr>\n",
       "    <tr>\n",
       "      <th>25%</th>\n",
       "      <td>365.750000</td>\n",
       "      <td>20.000000</td>\n",
       "      <td>NaN</td>\n",
       "      <td>59.000000</td>\n",
       "      <td>7553.500000</td>\n",
       "      <td>NaN</td>\n",
       "      <td>NaN</td>\n",
       "      <td>NaN</td>\n",
       "      <td>NaN</td>\n",
       "      <td>NaN</td>\n",
       "      <td>...</td>\n",
       "      <td>0.000000</td>\n",
       "      <td>NaN</td>\n",
       "      <td>NaN</td>\n",
       "      <td>NaN</td>\n",
       "      <td>0.000000</td>\n",
       "      <td>5.000000</td>\n",
       "      <td>2007.000000</td>\n",
       "      <td>NaN</td>\n",
       "      <td>NaN</td>\n",
       "      <td>129975.000000</td>\n",
       "    </tr>\n",
       "    <tr>\n",
       "      <th>50%</th>\n",
       "      <td>730.500000</td>\n",
       "      <td>50.000000</td>\n",
       "      <td>NaN</td>\n",
       "      <td>69.000000</td>\n",
       "      <td>9478.500000</td>\n",
       "      <td>NaN</td>\n",
       "      <td>NaN</td>\n",
       "      <td>NaN</td>\n",
       "      <td>NaN</td>\n",
       "      <td>NaN</td>\n",
       "      <td>...</td>\n",
       "      <td>0.000000</td>\n",
       "      <td>NaN</td>\n",
       "      <td>NaN</td>\n",
       "      <td>NaN</td>\n",
       "      <td>0.000000</td>\n",
       "      <td>6.000000</td>\n",
       "      <td>2008.000000</td>\n",
       "      <td>NaN</td>\n",
       "      <td>NaN</td>\n",
       "      <td>163000.000000</td>\n",
       "    </tr>\n",
       "    <tr>\n",
       "      <th>75%</th>\n",
       "      <td>1095.250000</td>\n",
       "      <td>70.000000</td>\n",
       "      <td>NaN</td>\n",
       "      <td>80.000000</td>\n",
       "      <td>11601.500000</td>\n",
       "      <td>NaN</td>\n",
       "      <td>NaN</td>\n",
       "      <td>NaN</td>\n",
       "      <td>NaN</td>\n",
       "      <td>NaN</td>\n",
       "      <td>...</td>\n",
       "      <td>0.000000</td>\n",
       "      <td>NaN</td>\n",
       "      <td>NaN</td>\n",
       "      <td>NaN</td>\n",
       "      <td>0.000000</td>\n",
       "      <td>8.000000</td>\n",
       "      <td>2009.000000</td>\n",
       "      <td>NaN</td>\n",
       "      <td>NaN</td>\n",
       "      <td>214000.000000</td>\n",
       "    </tr>\n",
       "    <tr>\n",
       "      <th>max</th>\n",
       "      <td>1460.000000</td>\n",
       "      <td>190.000000</td>\n",
       "      <td>NaN</td>\n",
       "      <td>313.000000</td>\n",
       "      <td>215245.000000</td>\n",
       "      <td>NaN</td>\n",
       "      <td>NaN</td>\n",
       "      <td>NaN</td>\n",
       "      <td>NaN</td>\n",
       "      <td>NaN</td>\n",
       "      <td>...</td>\n",
       "      <td>738.000000</td>\n",
       "      <td>NaN</td>\n",
       "      <td>NaN</td>\n",
       "      <td>NaN</td>\n",
       "      <td>15500.000000</td>\n",
       "      <td>12.000000</td>\n",
       "      <td>2010.000000</td>\n",
       "      <td>NaN</td>\n",
       "      <td>NaN</td>\n",
       "      <td>755000.000000</td>\n",
       "    </tr>\n",
       "  </tbody>\n",
       "</table>\n",
       "<p>11 rows × 81 columns</p>\n",
       "</div>"
      ],
      "text/plain": [
       "                 Id   MSSubClass MSZoning  LotFrontage        LotArea Street  \\\n",
       "count   1460.000000  1460.000000     1460  1201.000000    1460.000000   1460   \n",
       "unique          NaN          NaN        5          NaN            NaN      2   \n",
       "top             NaN          NaN       RL          NaN            NaN   Pave   \n",
       "freq            NaN          NaN     1151          NaN            NaN   1454   \n",
       "mean     730.500000    56.897260      NaN    70.049958   10516.828082    NaN   \n",
       "std      421.610009    42.300571      NaN    24.284752    9981.264932    NaN   \n",
       "min        1.000000    20.000000      NaN    21.000000    1300.000000    NaN   \n",
       "25%      365.750000    20.000000      NaN    59.000000    7553.500000    NaN   \n",
       "50%      730.500000    50.000000      NaN    69.000000    9478.500000    NaN   \n",
       "75%     1095.250000    70.000000      NaN    80.000000   11601.500000    NaN   \n",
       "max     1460.000000   190.000000      NaN   313.000000  215245.000000    NaN   \n",
       "\n",
       "       Alley LotShape LandContour Utilities  ...     PoolArea PoolQC  Fence  \\\n",
       "count     91     1460        1460      1460  ...  1460.000000      7    281   \n",
       "unique     2        4           4         2  ...          NaN      3      4   \n",
       "top     Grvl      Reg         Lvl    AllPub  ...          NaN     Gd  MnPrv   \n",
       "freq      50      925        1311      1459  ...          NaN      3    157   \n",
       "mean     NaN      NaN         NaN       NaN  ...     2.758904    NaN    NaN   \n",
       "std      NaN      NaN         NaN       NaN  ...    40.177307    NaN    NaN   \n",
       "min      NaN      NaN         NaN       NaN  ...     0.000000    NaN    NaN   \n",
       "25%      NaN      NaN         NaN       NaN  ...     0.000000    NaN    NaN   \n",
       "50%      NaN      NaN         NaN       NaN  ...     0.000000    NaN    NaN   \n",
       "75%      NaN      NaN         NaN       NaN  ...     0.000000    NaN    NaN   \n",
       "max      NaN      NaN         NaN       NaN  ...   738.000000    NaN    NaN   \n",
       "\n",
       "       MiscFeature       MiscVal       MoSold       YrSold  SaleType  \\\n",
       "count           54   1460.000000  1460.000000  1460.000000      1460   \n",
       "unique           4           NaN          NaN          NaN         9   \n",
       "top           Shed           NaN          NaN          NaN        WD   \n",
       "freq            49           NaN          NaN          NaN      1267   \n",
       "mean           NaN     43.489041     6.321918  2007.815753       NaN   \n",
       "std            NaN    496.123024     2.703626     1.328095       NaN   \n",
       "min            NaN      0.000000     1.000000  2006.000000       NaN   \n",
       "25%            NaN      0.000000     5.000000  2007.000000       NaN   \n",
       "50%            NaN      0.000000     6.000000  2008.000000       NaN   \n",
       "75%            NaN      0.000000     8.000000  2009.000000       NaN   \n",
       "max            NaN  15500.000000    12.000000  2010.000000       NaN   \n",
       "\n",
       "        SaleCondition      SalePrice  \n",
       "count            1460    1460.000000  \n",
       "unique              6            NaN  \n",
       "top            Normal            NaN  \n",
       "freq             1198            NaN  \n",
       "mean              NaN  180921.195890  \n",
       "std               NaN   79442.502883  \n",
       "min               NaN   34900.000000  \n",
       "25%               NaN  129975.000000  \n",
       "50%               NaN  163000.000000  \n",
       "75%               NaN  214000.000000  \n",
       "max               NaN  755000.000000  \n",
       "\n",
       "[11 rows x 81 columns]"
      ]
     },
     "execution_count": 5,
     "metadata": {},
     "output_type": "execute_result"
    }
   ],
   "source": [
    "df_train.describe(include='all')"
   ]
  },
  {
   "cell_type": "code",
   "execution_count": 6,
   "metadata": {},
   "outputs": [
    {
     "data": {
      "text/html": [
       "<div>\n",
       "<style scoped>\n",
       "    .dataframe tbody tr th:only-of-type {\n",
       "        vertical-align: middle;\n",
       "    }\n",
       "\n",
       "    .dataframe tbody tr th {\n",
       "        vertical-align: top;\n",
       "    }\n",
       "\n",
       "    .dataframe thead th {\n",
       "        text-align: right;\n",
       "    }\n",
       "</style>\n",
       "<table border=\"1\" class=\"dataframe\">\n",
       "  <thead>\n",
       "    <tr style=\"text-align: right;\">\n",
       "      <th></th>\n",
       "      <th>Id</th>\n",
       "      <th>MSSubClass</th>\n",
       "      <th>MSZoning</th>\n",
       "      <th>LotFrontage</th>\n",
       "      <th>LotArea</th>\n",
       "      <th>Street</th>\n",
       "      <th>Alley</th>\n",
       "      <th>LotShape</th>\n",
       "      <th>LandContour</th>\n",
       "      <th>Utilities</th>\n",
       "      <th>...</th>\n",
       "      <th>PoolArea</th>\n",
       "      <th>PoolQC</th>\n",
       "      <th>Fence</th>\n",
       "      <th>MiscFeature</th>\n",
       "      <th>MiscVal</th>\n",
       "      <th>MoSold</th>\n",
       "      <th>YrSold</th>\n",
       "      <th>SaleType</th>\n",
       "      <th>SaleCondition</th>\n",
       "      <th>SalePrice</th>\n",
       "    </tr>\n",
       "  </thead>\n",
       "  <tbody>\n",
       "    <tr>\n",
       "      <th>0</th>\n",
       "      <td>1</td>\n",
       "      <td>60</td>\n",
       "      <td>RL</td>\n",
       "      <td>65.0</td>\n",
       "      <td>8450</td>\n",
       "      <td>Pave</td>\n",
       "      <td>NaN</td>\n",
       "      <td>Reg</td>\n",
       "      <td>Lvl</td>\n",
       "      <td>AllPub</td>\n",
       "      <td>...</td>\n",
       "      <td>0</td>\n",
       "      <td>NaN</td>\n",
       "      <td>NaN</td>\n",
       "      <td>NaN</td>\n",
       "      <td>0</td>\n",
       "      <td>2</td>\n",
       "      <td>2008</td>\n",
       "      <td>WD</td>\n",
       "      <td>Normal</td>\n",
       "      <td>208500</td>\n",
       "    </tr>\n",
       "    <tr>\n",
       "      <th>1</th>\n",
       "      <td>2</td>\n",
       "      <td>20</td>\n",
       "      <td>RL</td>\n",
       "      <td>80.0</td>\n",
       "      <td>9600</td>\n",
       "      <td>Pave</td>\n",
       "      <td>NaN</td>\n",
       "      <td>Reg</td>\n",
       "      <td>Lvl</td>\n",
       "      <td>AllPub</td>\n",
       "      <td>...</td>\n",
       "      <td>0</td>\n",
       "      <td>NaN</td>\n",
       "      <td>NaN</td>\n",
       "      <td>NaN</td>\n",
       "      <td>0</td>\n",
       "      <td>5</td>\n",
       "      <td>2007</td>\n",
       "      <td>WD</td>\n",
       "      <td>Normal</td>\n",
       "      <td>181500</td>\n",
       "    </tr>\n",
       "    <tr>\n",
       "      <th>2</th>\n",
       "      <td>3</td>\n",
       "      <td>60</td>\n",
       "      <td>RL</td>\n",
       "      <td>68.0</td>\n",
       "      <td>11250</td>\n",
       "      <td>Pave</td>\n",
       "      <td>NaN</td>\n",
       "      <td>IR1</td>\n",
       "      <td>Lvl</td>\n",
       "      <td>AllPub</td>\n",
       "      <td>...</td>\n",
       "      <td>0</td>\n",
       "      <td>NaN</td>\n",
       "      <td>NaN</td>\n",
       "      <td>NaN</td>\n",
       "      <td>0</td>\n",
       "      <td>9</td>\n",
       "      <td>2008</td>\n",
       "      <td>WD</td>\n",
       "      <td>Normal</td>\n",
       "      <td>223500</td>\n",
       "    </tr>\n",
       "    <tr>\n",
       "      <th>3</th>\n",
       "      <td>4</td>\n",
       "      <td>70</td>\n",
       "      <td>RL</td>\n",
       "      <td>60.0</td>\n",
       "      <td>9550</td>\n",
       "      <td>Pave</td>\n",
       "      <td>NaN</td>\n",
       "      <td>IR1</td>\n",
       "      <td>Lvl</td>\n",
       "      <td>AllPub</td>\n",
       "      <td>...</td>\n",
       "      <td>0</td>\n",
       "      <td>NaN</td>\n",
       "      <td>NaN</td>\n",
       "      <td>NaN</td>\n",
       "      <td>0</td>\n",
       "      <td>2</td>\n",
       "      <td>2006</td>\n",
       "      <td>WD</td>\n",
       "      <td>Abnorml</td>\n",
       "      <td>140000</td>\n",
       "    </tr>\n",
       "    <tr>\n",
       "      <th>4</th>\n",
       "      <td>5</td>\n",
       "      <td>60</td>\n",
       "      <td>RL</td>\n",
       "      <td>84.0</td>\n",
       "      <td>14260</td>\n",
       "      <td>Pave</td>\n",
       "      <td>NaN</td>\n",
       "      <td>IR1</td>\n",
       "      <td>Lvl</td>\n",
       "      <td>AllPub</td>\n",
       "      <td>...</td>\n",
       "      <td>0</td>\n",
       "      <td>NaN</td>\n",
       "      <td>NaN</td>\n",
       "      <td>NaN</td>\n",
       "      <td>0</td>\n",
       "      <td>12</td>\n",
       "      <td>2008</td>\n",
       "      <td>WD</td>\n",
       "      <td>Normal</td>\n",
       "      <td>250000</td>\n",
       "    </tr>\n",
       "  </tbody>\n",
       "</table>\n",
       "<p>5 rows × 81 columns</p>\n",
       "</div>"
      ],
      "text/plain": [
       "   Id  MSSubClass MSZoning  LotFrontage  LotArea Street Alley LotShape  \\\n",
       "0   1          60       RL         65.0     8450   Pave   NaN      Reg   \n",
       "1   2          20       RL         80.0     9600   Pave   NaN      Reg   \n",
       "2   3          60       RL         68.0    11250   Pave   NaN      IR1   \n",
       "3   4          70       RL         60.0     9550   Pave   NaN      IR1   \n",
       "4   5          60       RL         84.0    14260   Pave   NaN      IR1   \n",
       "\n",
       "  LandContour Utilities  ... PoolArea PoolQC Fence MiscFeature MiscVal MoSold  \\\n",
       "0         Lvl    AllPub  ...        0    NaN   NaN         NaN       0      2   \n",
       "1         Lvl    AllPub  ...        0    NaN   NaN         NaN       0      5   \n",
       "2         Lvl    AllPub  ...        0    NaN   NaN         NaN       0      9   \n",
       "3         Lvl    AllPub  ...        0    NaN   NaN         NaN       0      2   \n",
       "4         Lvl    AllPub  ...        0    NaN   NaN         NaN       0     12   \n",
       "\n",
       "  YrSold  SaleType  SaleCondition  SalePrice  \n",
       "0   2008        WD         Normal     208500  \n",
       "1   2007        WD         Normal     181500  \n",
       "2   2008        WD         Normal     223500  \n",
       "3   2006        WD        Abnorml     140000  \n",
       "4   2008        WD         Normal     250000  \n",
       "\n",
       "[5 rows x 81 columns]"
      ]
     },
     "execution_count": 6,
     "metadata": {},
     "output_type": "execute_result"
    }
   ],
   "source": [
    "df_train.head()"
   ]
  },
  {
   "cell_type": "code",
   "execution_count": 7,
   "metadata": {},
   "outputs": [
    {
     "name": "stdout",
     "output_type": "stream",
     "text": [
      "                   Id  MSSubClass  LotFrontage   LotArea  OverallQual  \\\n",
      "Id           1.000000    0.011156    -0.010601 -0.033226    -0.028365   \n",
      "MSSubClass   0.011156    1.000000    -0.386347 -0.139781     0.032628   \n",
      "LotFrontage -0.010601   -0.386347     1.000000  0.426095     0.251646   \n",
      "LotArea     -0.033226   -0.139781     0.426095  1.000000     0.105806   \n",
      "OverallQual -0.028365    0.032628     0.251646  0.105806     1.000000   \n",
      "\n",
      "             OverallCond  YearBuilt  YearRemodAdd  MasVnrArea  BsmtFinSF1  \\\n",
      "Id              0.012609  -0.012713     -0.021998   -0.050298   -0.005024   \n",
      "MSSubClass     -0.059316   0.027850      0.040581    0.022936   -0.069836   \n",
      "LotFrontage    -0.059213   0.123349      0.088866    0.193458    0.233633   \n",
      "LotArea        -0.005636   0.014228      0.013788    0.104160    0.214103   \n",
      "OverallQual    -0.091932   0.572323      0.550684    0.411876    0.239666   \n",
      "\n",
      "             ...  WoodDeckSF  OpenPorchSF  EnclosedPorch  3SsnPorch  \\\n",
      "Id           ...   -0.029643    -0.000477       0.002889  -0.046635   \n",
      "MSSubClass   ...   -0.012579    -0.006100      -0.012037  -0.043825   \n",
      "LotFrontage  ...    0.088521     0.151972       0.010700   0.070029   \n",
      "LotArea      ...    0.171698     0.084774      -0.018340   0.020423   \n",
      "OverallQual  ...    0.238923     0.308819      -0.113937   0.030371   \n",
      "\n",
      "             ScreenPorch  PoolArea   MiscVal    MoSold    YrSold  SalePrice  \n",
      "Id              0.001330  0.057044 -0.006242  0.021172  0.000712  -0.021917  \n",
      "MSSubClass     -0.026030  0.008283 -0.007683 -0.013585 -0.021407  -0.084284  \n",
      "LotFrontage     0.041383  0.206167  0.003368  0.011200  0.007450   0.351799  \n",
      "LotArea         0.043160  0.077672  0.038068  0.001205 -0.014261   0.263843  \n",
      "OverallQual     0.064886  0.065166 -0.031406  0.070815 -0.027347   0.790982  \n",
      "\n",
      "[5 rows x 38 columns]\n"
     ]
    },
    {
     "data": {
      "text/plain": [
       "<matplotlib.axes._subplots.AxesSubplot at 0x2cf88a5a940>"
      ]
     },
     "execution_count": 7,
     "metadata": {},
     "output_type": "execute_result"
    },
    {
     "data": {
      "image/png": "[encoded data removed]",
      "text/plain": [
       "<Figure size 864x864 with 2 Axes>"
      ]
     },
     "metadata": {
      "needs_background": "light"
     },
     "output_type": "display_data"
    }
   ],
   "source": [
    "# Heatmap on training set including sales price to observe the Pearson correlations.\n",
    "corr = df_train.corr(method = 'pearson')\n",
    "print(corr.head())\n",
    "\n",
    "plt.figure(figsize=(12, 12))\n",
    "sns.heatmap(corr, vmax=1, vmin=-1, cmap=\"YlGnBu\" )"
   ]
  },
  {
   "cell_type": "markdown",
   "metadata": {},
   "source": [
    "Note:\n",
    "1. Large negative correlations are equaly important as large positive values in machine learning.\n",
    "2. Pearson correlations can only represent numerical values including categorical ordinal feature values.\n",
    "3. Pearson correlations only measure linear correlations. It does not work well when there is non-linear relation between two features. Therefore, there might be other relations even though the correlation values are low between some features."
   ]
  },
  {
   "cell_type": "markdown",
   "metadata": {},
   "source": [
    "\n",
    "The figure below can also show that there is lower correlation between lot area size and sale price."
   ]
  },
  {
   "cell_type": "code",
   "execution_count": 8,
   "metadata": {
    "scrolled": true
   },
   "outputs": [
    {
     "data": {
      "image/png": "[encoded data removed]",
      "text/plain": [
       "<Figure size 432x288 with 1 Axes>"
      ]
     },
     "metadata": {
      "needs_background": "light"
     },
     "output_type": "display_data"
    },
    {
     "name": "stdout",
     "output_type": "stream",
     "text": [
      "0.2638433538714063\n"
     ]
    }
   ],
   "source": [
    "jitter = 150\n",
    "x = df_train['LotArea']\n",
    "y = df_train['SalePrice'] + np.random.uniform(-jitter, jitter, len(df_train))\n",
    "#y = df_train['SalePrice']\n",
    "\n",
    "plt.plot(x, y, 'o', markersize=5, alpha=0.1, color = 'Blue')\n",
    "# Limit Sale Price range within 50000 as only limited lot area data greater than 20000 better easier observation.\n",
    "plt.xlim(0,20000)\n",
    "# Same reason to limit sale price\n",
    "plt.ylim(0,400000)\n",
    "plt.xlabel=('Lot Area')\n",
    "plt.ylabel=('Sale Price')\n",
    "plt.show()\n",
    "\n",
    "print(corr.loc['LotArea', 'SalePrice'])"
   ]
  },
  {
   "cell_type": "markdown",
   "metadata": {},
   "source": [
    "The figure below can also show that there is higher correlation between built year and sale price."
   ]
  },
  {
   "cell_type": "code",
   "execution_count": 9,
   "metadata": {},
   "outputs": [
    {
     "data": {
      "image/png": "[encoded data removed]",
      "text/plain": [
       "<Figure size 432x288 with 1 Axes>"
      ]
     },
     "metadata": {
      "needs_background": "light"
     },
     "output_type": "display_data"
    },
    {
     "name": "stdout",
     "output_type": "stream",
     "text": [
      "0.5228973328794967\n"
     ]
    }
   ],
   "source": [
    "jitter = 150\n",
    "x = df_train['YearBuilt']\n",
    "y = df_train['SalePrice'] + np.random.uniform(-jitter, jitter, len(df_train))\n",
    "\n",
    "plt.plot(x, y, 'o', markersize=5, alpha=0.08, color = 'Green')\n",
    "plt.xlim(1900,2010)\n",
    "plt.ylim(0, 500000)\n",
    "\n",
    "plt.xlabel=('YearBuilt')\n",
    "plt.ylabel=('Sale Price')\n",
    "plt.show()\n",
    "\n",
    "print(corr.loc['YearBuilt', 'SalePrice'])"
   ]
  },
  {
   "cell_type": "code",
   "execution_count": 10,
   "metadata": {},
   "outputs": [
    {
     "data": {
      "text/plain": [
       "<matplotlib.axes._subplots.AxesSubplot at 0x2cf89229898>"
      ]
     },
     "execution_count": 10,
     "metadata": {},
     "output_type": "execute_result"
    },
    {
     "data": {
      "image/png": "[encoded data removed]",
      "text/plain": [
       "<Figure size 432x288 with 1 Axes>"
      ]
     },
     "metadata": {
      "needs_background": "light"
     },
     "output_type": "display_data"
    }
   ],
   "source": [
    "#It seems that SalePrice is skewered, so it needs to be transformed. Will do it later.\n",
    "sns.distplot(df_train['SalePrice'], kde=False, color='c', hist_kws={'alpha': 0.9})"
   ]
  },
  {
   "cell_type": "code",
   "execution_count": 11,
   "metadata": {},
   "outputs": [
    {
     "name": "stdout",
     "output_type": "stream",
     "text": [
      "(1460, 79)\n",
      "(1459, 79)\n",
      "(1460,)\n"
     ]
    }
   ],
   "source": [
    "# Extract the house prices to a new series\n",
    "y_train = df_train['SalePrice']\n",
    "df_train.drop('SalePrice', axis=1, inplace=True)\n",
    "\n",
    "# Remove Id columns from both training and test set\n",
    "df_train.drop('Id', axis=1, inplace=True)\n",
    "df_test.drop('Id', axis=1, inplace=True)\n",
    "\n",
    "# Check the data shape now\n",
    "print(df_train.shape)\n",
    "print(df_test.shape)\n",
    "print(y_train.shape)"
   ]
  },
  {
   "cell_type": "markdown",
   "metadata": {},
   "source": [
    "Check the null values in training set"
   ]
  },
  {
   "cell_type": "code",
   "execution_count": 12,
   "metadata": {
    "scrolled": true
   },
   "outputs": [
    {
     "name": "stdout",
     "output_type": "stream",
     "text": [
      "LotFrontage      259\n",
      "Alley           1369\n",
      "MasVnrType         8\n",
      "MasVnrArea         8\n",
      "BsmtQual          37\n",
      "BsmtCond          37\n",
      "BsmtExposure      38\n",
      "BsmtFinType1      37\n",
      "BsmtFinType2      38\n",
      "Electrical         1\n",
      "FireplaceQu      690\n",
      "GarageType        81\n",
      "GarageYrBlt       81\n",
      "GarageFinish      81\n",
      "GarageQual        81\n",
      "GarageCond        81\n",
      "PoolQC          1453\n",
      "Fence           1179\n",
      "MiscFeature     1406\n",
      "dtype: int64\n"
     ]
    }
   ],
   "source": [
    "df_nu = df_train.isnull().sum()\n",
    "\n",
    "# Only list the features with null values for later processing\n",
    "print(df_nu[df_nu > 0])"
   ]
  },
  {
   "cell_type": "markdown",
   "metadata": {},
   "source": [
    "Check the null values in test set"
   ]
  },
  {
   "cell_type": "code",
   "execution_count": 13,
   "metadata": {},
   "outputs": [
    {
     "name": "stdout",
     "output_type": "stream",
     "text": [
      "MSZoning           4\n",
      "LotFrontage      227\n",
      "Alley           1352\n",
      "Utilities          2\n",
      "Exterior1st        1\n",
      "Exterior2nd        1\n",
      "MasVnrType        16\n",
      "MasVnrArea        15\n",
      "BsmtQual          44\n",
      "BsmtCond          45\n",
      "BsmtExposure      44\n",
      "BsmtFinType1      42\n",
      "BsmtFinSF1         1\n",
      "BsmtFinType2      42\n",
      "BsmtFinSF2         1\n",
      "BsmtUnfSF          1\n",
      "TotalBsmtSF        1\n",
      "BsmtFullBath       2\n",
      "BsmtHalfBath       2\n",
      "KitchenQual        1\n",
      "Functional         2\n",
      "FireplaceQu      730\n",
      "GarageType        76\n",
      "GarageYrBlt       78\n",
      "GarageFinish      78\n",
      "GarageCars         1\n",
      "GarageArea         1\n",
      "GarageQual        78\n",
      "GarageCond        78\n",
      "PoolQC          1456\n",
      "Fence           1169\n",
      "MiscFeature     1408\n",
      "SaleType           1\n",
      "dtype: int64\n"
     ]
    }
   ],
   "source": [
    "df_nu = df_test.isnull().sum()\n",
    "\n",
    "# Only list the features with null values for later processing\n",
    "print(df_nu[df_nu > 0])"
   ]
  },
  {
   "cell_type": "markdown",
   "metadata": {},
   "source": [
    "There are 4 features 'Alley','PoolQC','Fence','MiscFeature' with almost all null values. Merge training and test data first then remove the 4 features."
   ]
  },
  {
   "cell_type": "code",
   "execution_count": 14,
   "metadata": {},
   "outputs": [
    {
     "name": "stdout",
     "output_type": "stream",
     "text": [
      "(2919, 79)\n"
     ]
    }
   ],
   "source": [
    "# Merge training and test set to process feature engineering together\n",
    "df_all = concat_df(df_train, df_test)\n",
    "print(df_all.shape)"
   ]
  },
  {
   "cell_type": "code",
   "execution_count": 15,
   "metadata": {},
   "outputs": [],
   "source": [
    "df_all.drop(['Alley','PoolQC','Fence','MiscFeature'], axis = 1, inplace= True)"
   ]
  },
  {
   "cell_type": "markdown",
   "metadata": {},
   "source": [
    "Initially fill in the null values for all features with null values above."
   ]
  },
  {
   "cell_type": "code",
   "execution_count": 16,
   "metadata": {},
   "outputs": [
    {
     "data": {
      "text/plain": [
       "1stFlrSF         0\n",
       "2ndFlrSF         0\n",
       "3SsnPorch        0\n",
       "BedroomAbvGr     0\n",
       "BldgType         0\n",
       "BsmtCond         0\n",
       "BsmtExposure     0\n",
       "BsmtFinSF1       0\n",
       "BsmtFinSF2       0\n",
       "BsmtFinType1     0\n",
       "BsmtFinType2     0\n",
       "BsmtFullBath     0\n",
       "BsmtHalfBath     0\n",
       "BsmtQual         0\n",
       "BsmtUnfSF        0\n",
       "CentralAir       0\n",
       "Condition1       0\n",
       "Condition2       0\n",
       "Electrical       0\n",
       "EnclosedPorch    0\n",
       "ExterCond        0\n",
       "ExterQual        0\n",
       "Exterior1st      0\n",
       "Exterior2nd      0\n",
       "FireplaceQu      0\n",
       "Fireplaces       0\n",
       "Foundation       0\n",
       "FullBath         0\n",
       "Functional       0\n",
       "GarageArea       0\n",
       "                ..\n",
       "LotArea          0\n",
       "LotConfig        0\n",
       "LotFrontage      0\n",
       "LotShape         0\n",
       "LowQualFinSF     0\n",
       "MSSubClass       0\n",
       "MSZoning         0\n",
       "MasVnrArea       0\n",
       "MasVnrType       0\n",
       "MiscVal          0\n",
       "MoSold           0\n",
       "Neighborhood     0\n",
       "OpenPorchSF      0\n",
       "OverallCond      0\n",
       "OverallQual      0\n",
       "PavedDrive       0\n",
       "PoolArea         0\n",
       "RoofMatl         0\n",
       "RoofStyle        0\n",
       "SaleCondition    0\n",
       "SaleType         0\n",
       "ScreenPorch      0\n",
       "Street           0\n",
       "TotRmsAbvGrd     0\n",
       "TotalBsmtSF      0\n",
       "Utilities        0\n",
       "WoodDeckSF       0\n",
       "YearBuilt        0\n",
       "YearRemodAdd     0\n",
       "YrSold           0\n",
       "Length: 75, dtype: int64"
      ]
     },
     "execution_count": 16,
     "metadata": {},
     "output_type": "execute_result"
    }
   ],
   "source": [
    "df_all['MSZoning'].fillna('RL', inplace=True) # test set only\n",
    "df_all['LotFrontage'].fillna(df_all['LotFrontage'].mean(), inplace =True)       \n",
    "df_all['Utilities'].fillna('AllPub', inplace=True) # test set only\n",
    "df_all['Exterior1st'].fillna('VinylSd', inplace=True) # test set only\n",
    "df_all['Exterior2nd'].fillna('VinylSd', inplace=True) # test set only\n",
    "df_all['MasVnrType'].fillna('None', inplace=True) \n",
    "df_all['MasVnrArea'].fillna('0', inplace=True)\n",
    "\n",
    "df_all['BsmtQual'].fillna('TA', inplace=True)\n",
    "df_all['BsmtCond'].fillna('TA', inplace=True)\n",
    "df_all['BsmtExposure'].fillna('No', inplace=True)\n",
    "df_all['BsmtFinType1'].fillna('GLQ', inplace=True)\n",
    "df_all['BsmtFinType2'].fillna('Unf', inplace=True)\n",
    "df_all['BsmtFinSF1'].fillna('0', inplace=True) # test set only\n",
    "df_all['BsmtFinSF2'].fillna('0', inplace=True) # test set only\n",
    "df_all['BsmtUnfSF'].fillna(df_all['BsmtUnfSF'].median(), inplace=True) # test set only\n",
    "df_all['TotalBsmtSF'].fillna(df_all['BsmtUnfSF'].median(), inplace=True) # test set only\n",
    "df_all['BsmtFullBath'].fillna('0', inplace=True) # test set only\n",
    "df_all['BsmtHalfBath'].fillna('0', inplace=True) # test set only\n",
    "\n",
    "df_all['Electrical'].fillna('SBrkr', inplace=True) # training set only\n",
    "df_all['KitchenQual'].fillna('TA', inplace=True) # test set only\n",
    "df_all['Functional'].fillna('Typ', inplace=True) # test set only\n",
    "df_all['FireplaceQu'].fillna('TA', inplace=True)\n",
    "       \n",
    "df_all['GarageType'].fillna('Attchd', inplace=True)\n",
    "df_all['GarageYrBlt'].fillna(df_all['GarageYrBlt'].mean(), inplace=True)\n",
    "df_all['GarageFinish'].fillna('RFn', inplace=True)\n",
    "df_all['GarageCars'].fillna('2', inplace=True) #test set only\n",
    "df_all['GarageArea'].fillna(df_all['GarageArea'].mean(), inplace=True) #test set only\n",
    "df_all['GarageQual'].fillna('TA', inplace=True)\n",
    "df_all['GarageCond'].fillna('TA', inplace=True)\n",
    " \n",
    "df_all['SaleType'].fillna('WD', inplace=True) #test set only\n",
    "\n",
    "# Make sure there is no null items\n",
    "df_all.isnull().sum()"
   ]
  },
  {
   "cell_type": "markdown",
   "metadata": {},
   "source": [
    "Now, handle several types of features in different ways:\n",
    "1. Do one-hot encoding for categorical and norminal data\n",
    "2. For categorical and ordinal data, map all values to numbers\n",
    "3. Do normalization and scaling finally for all features - including both categorical data and regression data. It's not essential (optioanl) for tree related algorithms."
   ]
  },
  {
   "cell_type": "code",
   "execution_count": 17,
   "metadata": {},
   "outputs": [
    {
     "name": "stdout",
     "output_type": "stream",
     "text": [
      "Index(['1stFlrSF', '2ndFlrSF', '3SsnPorch', 'BedroomAbvGr', 'BldgType',\n",
      "       'BsmtCond', 'BsmtExposure', 'BsmtFinSF1', 'BsmtFinSF2', 'BsmtFinType1',\n",
      "       'BsmtFinType2', 'BsmtFullBath', 'BsmtHalfBath', 'BsmtQual', 'BsmtUnfSF',\n",
      "       'CentralAir', 'Condition1', 'Condition2', 'Electrical', 'EnclosedPorch',\n",
      "       'ExterCond', 'ExterQual', 'Exterior1st', 'Exterior2nd', 'FireplaceQu',\n",
      "       'Fireplaces', 'Foundation', 'FullBath', 'Functional', 'GarageArea',\n",
      "       'GarageCars', 'GarageCond', 'GarageFinish', 'GarageQual', 'GarageType',\n",
      "       'GarageYrBlt', 'GrLivArea', 'HalfBath', 'Heating', 'HeatingQC',\n",
      "       'HouseStyle', 'KitchenAbvGr', 'KitchenQual', 'LandContour', 'LandSlope',\n",
      "       'LotArea', 'LotConfig', 'LotFrontage', 'LotShape', 'LowQualFinSF',\n",
      "       'MSSubClass', 'MSZoning', 'MasVnrArea', 'MasVnrType', 'MiscVal',\n",
      "       'MoSold', 'Neighborhood', 'OpenPorchSF', 'OverallCond', 'OverallQual',\n",
      "       'PavedDrive', 'PoolArea', 'RoofMatl', 'RoofStyle', 'SaleCondition',\n",
      "       'SaleType', 'ScreenPorch', 'Street', 'TotRmsAbvGrd', 'TotalBsmtSF',\n",
      "       'Utilities', 'WoodDeckSF', 'YearBuilt', 'YearRemodAdd', 'YrSold'],\n",
      "      dtype='object')\n",
      "   1stFlrSF  2ndFlrSF  3SsnPorch  BedroomAbvGr BldgType BsmtCond BsmtExposure  \\\n",
      "0       856       854          0             3     1Fam       TA           No   \n",
      "1      1262         0          0             3     1Fam       TA           Gd   \n",
      "2       920       866          0             3     1Fam       TA           Mn   \n",
      "3       961       756          0             3     1Fam       Gd           No   \n",
      "4      1145      1053          0             4     1Fam       TA           Av   \n",
      "\n",
      "  BsmtFinSF1 BsmtFinSF2 BsmtFinType1  ... SaleType ScreenPorch Street  \\\n",
      "0        706          0          GLQ  ...       WD           0   Pave   \n",
      "1        978          0          ALQ  ...       WD           0   Pave   \n",
      "2        486          0          GLQ  ...       WD           0   Pave   \n",
      "3        216          0          ALQ  ...       WD           0   Pave   \n",
      "4        655          0          GLQ  ...       WD           0   Pave   \n",
      "\n",
      "  TotRmsAbvGrd  TotalBsmtSF Utilities WoodDeckSF YearBuilt YearRemodAdd  \\\n",
      "0            8        856.0    AllPub          0      2003         2003   \n",
      "1            6       1262.0    AllPub        298      1976         1976   \n",
      "2            6        920.0    AllPub          0      2001         2002   \n",
      "3            7        756.0    AllPub          0      1915         1970   \n",
      "4            9       1145.0    AllPub        192      2000         2000   \n",
      "\n",
      "   YrSold  \n",
      "0    2008  \n",
      "1    2007  \n",
      "2    2008  \n",
      "3    2006  \n",
      "4    2008  \n",
      "\n",
      "[5 rows x 75 columns]\n",
      "(2919, 75)\n"
     ]
    }
   ],
   "source": [
    "# Check the data summary so far\n",
    "print(df_all.columns)\n",
    "print(df_all.head())\n",
    "print(df_all.shape)"
   ]
  },
  {
   "cell_type": "markdown",
   "metadata": {},
   "source": [
    "Use one-hot encoding to handle categorical + norminal features below: \n",
    "MSZoning\n",
    "Street\n",
    "LotShape\n",
    "LandContour\n",
    "Utilities\n",
    "LotConfig\n",
    "LandSlope\n",
    "Neighborhood\n",
    "Condition1\n",
    "Condition2\n",
    "BldgType\n",
    "HouseStyle\n",
    "RoofStyle\n",
    "RoofMatl\n",
    "Exterior1st\n",
    "Exterior2nd\n",
    "MasVnrType\n",
    "Foundation\n",
    "Heating\n",
    "CentralAir\n",
    "Electrical\n",
    "Functional\n",
    "GarageType\n",
    "GarageFinish\n",
    "MoSold\n",
    "SaleType\n",
    "SaleCondition\n"
   ]
  },
  {
   "cell_type": "code",
   "execution_count": 18,
   "metadata": {
    "scrolled": true
   },
   "outputs": [
    {
     "name": "stdout",
     "output_type": "stream",
     "text": [
      "<class 'pandas.core.frame.DataFrame'>\n",
      "(2919, 191)\n",
      "(2919, 48)\n",
      "<class 'pandas.core.frame.DataFrame'>\n",
      "RangeIndex: 2919 entries, 0 to 2918\n",
      "Data columns (total 48 columns):\n",
      "1stFlrSF         2919 non-null int64\n",
      "2ndFlrSF         2919 non-null int64\n",
      "3SsnPorch        2919 non-null int64\n",
      "BedroomAbvGr     2919 non-null int64\n",
      "BsmtCond         2919 non-null object\n",
      "BsmtExposure     2919 non-null object\n",
      "BsmtFinSF1       2919 non-null object\n",
      "BsmtFinSF2       2919 non-null object\n",
      "BsmtFinType1     2919 non-null object\n",
      "BsmtFinType2     2919 non-null object\n",
      "BsmtFullBath     2919 non-null object\n",
      "BsmtHalfBath     2919 non-null object\n",
      "BsmtQual         2919 non-null object\n",
      "BsmtUnfSF        2919 non-null float64\n",
      "EnclosedPorch    2919 non-null int64\n",
      "ExterCond        2919 non-null object\n",
      "ExterQual        2919 non-null object\n",
      "FireplaceQu      2919 non-null object\n",
      "Fireplaces       2919 non-null int64\n",
      "FullBath         2919 non-null int64\n",
      "GarageArea       2919 non-null float64\n",
      "GarageCars       2919 non-null object\n",
      "GarageCond       2919 non-null object\n",
      "GarageQual       2919 non-null object\n",
      "GarageYrBlt      2919 non-null float64\n",
      "GrLivArea        2919 non-null int64\n",
      "HalfBath         2919 non-null int64\n",
      "HeatingQC        2919 non-null object\n",
      "KitchenAbvGr     2919 non-null int64\n",
      "KitchenQual      2919 non-null object\n",
      "LotArea          2919 non-null int64\n",
      "LotFrontage      2919 non-null float64\n",
      "LowQualFinSF     2919 non-null int64\n",
      "MSSubClass       2919 non-null int64\n",
      "MasVnrArea       2919 non-null object\n",
      "MiscVal          2919 non-null int64\n",
      "OpenPorchSF      2919 non-null int64\n",
      "OverallCond      2919 non-null int64\n",
      "OverallQual      2919 non-null int64\n",
      "PavedDrive       2919 non-null object\n",
      "PoolArea         2919 non-null int64\n",
      "ScreenPorch      2919 non-null int64\n",
      "TotRmsAbvGrd     2919 non-null int64\n",
      "TotalBsmtSF      2919 non-null float64\n",
      "WoodDeckSF       2919 non-null int64\n",
      "YearBuilt        2919 non-null int64\n",
      "YearRemodAdd     2919 non-null int64\n",
      "YrSold           2919 non-null int64\n",
      "dtypes: float64(5), int64(24), object(19)\n",
      "memory usage: 1.1+ MB\n"
     ]
    }
   ],
   "source": [
    "cols = ['MSZoning', 'Street', 'LotShape', 'LandContour', 'Utilities', 'LotConfig', 'LandSlope', 'Neighborhood', 'Condition1', 'Condition2', 'BldgType', 'HouseStyle', 'RoofStyle', 'RoofMatl', 'Exterior1st', 'Exterior2nd', 'MasVnrType', 'Foundation', 'Heating', 'CentralAir', 'Electrical', 'Functional', 'GarageType', 'GarageFinish', 'MoSold', 'SaleType', 'SaleCondition']\n",
    "onehot = onehot_features(df_all, cols)\n",
    "\n",
    "# Drop the original features\n",
    "df_all.drop(cols, axis = 1, inplace = True)\n",
    "\n",
    "print(type(onehot))\n",
    "print(onehot.shape)\n",
    "print(df_all.shape)\n",
    "df_all.info()"
   ]
  },
  {
   "cell_type": "markdown",
   "metadata": {},
   "source": [
    "Map all the categorical ordianl features which the order of the values make sense and their values are not numerical below:\n",
    "ExterQual\n",
    "ExterCond\n",
    "BsmtQual\n",
    "BsmtCond\n",
    "BsmtExposure\n",
    "BsmtFinType1\n",
    "BsmtFinType2\n",
    "HeatingQC\n",
    "KitchenQual\n",
    "FireplaceQu\n",
    "GarageQual\n",
    "GarageCond\n",
    "PavedDrive\n",
    "PoolQC\n",
    "Fence\n",
    "\n",
    "The mappings can be determined by referring the data_description file which describes the meanings of each features."
   ]
  },
  {
   "cell_type": "code",
   "execution_count": 19,
   "metadata": {},
   "outputs": [],
   "source": [
    "mapping = {'Ex':5, 'Gd':4, 'TA':3, 'Fa':2, 'Po':1, 'NA':0, 'Av':3, 'Mn':2, 'No':1}\n",
    "df_all['ExterQual'] = df_all['ExterQual'].astype(str)\n",
    "df_all['ExterQual'] = df_all['ExterQual'].map(mapping)\n",
    "df_all['ExterCond'] = map_category(df_all['ExterCond'], mapping)\n",
    "df_all['BsmtQual'] = map_category(df_all['BsmtQual'], mapping)\n",
    "df_all['BsmtCond'] = map_category(df_all['BsmtCond'], mapping)\n",
    "df_all['BsmtExposure'] = map_category(df_all['BsmtExposure'], mapping)\n",
    "df_all['HeatingQC'] = map_category(df_all['HeatingQC'], mapping)\n",
    "df_all['KitchenQual'] = map_category(df_all['KitchenQual'], mapping)\n",
    "df_all['FireplaceQu'] = map_category(df_all['FireplaceQu'], mapping)\n",
    "df_all['GarageQual'] = map_category(df_all['GarageQual'], mapping)\n",
    "df_all['GarageCond'] = map_category(df_all['GarageCond'], mapping)\n",
    "\n",
    "mapping = {'GLQ':6, 'ALQ':5, 'BLQ':4, 'Rec':3, 'LwQ':2, 'Unf':1, 'NA':0}\n",
    "df_all['BsmtFinType1'] = map_category(df_all['BsmtFinType1'], mapping)\n",
    "df_all['BsmtFinType2'] = map_category(df_all['BsmtFinType2'], mapping)\n",
    "\n",
    "mapping = {'Y':2, 'P':1, 'N':0}\n",
    "df_all['PavedDrive'] = map_category(df_all['PavedDrive'], mapping)\n",
    "\n",
    "# The following features are still type object but they should be numbers. Convert them to int64. \n",
    "df_all['BsmtFinSF1'] = df_all['BsmtFinSF1'].astype(int)\n",
    "df_all['BsmtFinSF2'] = df_all['BsmtFinSF2'].astype(int)\n",
    "df_all['BsmtFullBath'] = df_all['BsmtFinSF2'].astype(int)\n",
    "df_all['BsmtHalfBath'] = df_all['BsmtFinSF2'].astype(int)\n",
    "df_all['GarageCars'] = df_all['BsmtFinSF2'].astype(int)\n",
    "df_all['MasVnrArea'] = df_all['BsmtFinSF2'].astype(int)"
   ]
  },
  {
   "cell_type": "markdown",
   "metadata": {},
   "source": [
    "Transform skewed features."
   ]
  },
  {
   "cell_type": "code",
   "execution_count": 20,
   "metadata": {},
   "outputs": [],
   "source": [
    "for col in df_all.columns:\n",
    "    if skew(df_all[col]) > 0.75:\n",
    "        df_all[col] = np.log1p(df_all[col])\n",
    "\n",
    "y_train = np.log1p(y_train)"
   ]
  },
  {
   "cell_type": "markdown",
   "metadata": {},
   "source": [
    " Merge dummy features and original data set."
   ]
  },
  {
   "cell_type": "code",
   "execution_count": 21,
   "metadata": {},
   "outputs": [
    {
     "name": "stdout",
     "output_type": "stream",
     "text": [
      "(2919, 239)\n"
     ]
    }
   ],
   "source": [
    "df_all = pd.concat([df_all, onehot], axis=1)\n",
    "print(df_all.shape)"
   ]
  },
  {
   "cell_type": "code",
   "execution_count": 22,
   "metadata": {},
   "outputs": [
    {
     "name": "stdout",
     "output_type": "stream",
     "text": [
      "Series([], dtype: int64)\n"
     ]
    }
   ],
   "source": [
    "df_nu = df_all.isnull().sum()\n",
    "\n",
    "# Make sure if there is no null value\n",
    "print(df_nu[df_nu>0])"
   ]
  },
  {
   "cell_type": "code",
   "execution_count": 23,
   "metadata": {},
   "outputs": [
    {
     "name": "stdout",
     "output_type": "stream",
     "text": [
      "(1460, 79)\n",
      "(2919, 239)\n",
      "(1460, 239)\n",
      "(1459, 239)\n",
      "(1460,)\n"
     ]
    }
   ],
   "source": [
    "# Check the data set dimensions so far again.\n",
    "print(df_train.shape)\n",
    "print(df_all.shape)\n",
    "X_train, X_test = divide_df(df_all, df_train.shape[0])\n",
    "print(X_train.shape)\n",
    "print(X_test.shape)\n",
    "print(y_train.shape)"
   ]
  },
  {
   "cell_type": "markdown",
   "metadata": {},
   "source": [
    "Scaling features"
   ]
  },
  {
   "cell_type": "code",
   "execution_count": 24,
   "metadata": {},
   "outputs": [
    {
     "name": "stdout",
     "output_type": "stream",
     "text": [
      "   1stFlrSF  2ndFlrSF  3SsnPorch  BedroomAbvGr  BsmtCond  BsmtExposure  \\\n",
      "0 -0.803645  1.180528  -0.128521      0.163779 -0.038577     -0.653819   \n",
      "1  0.418479 -0.870117  -0.128521      0.163779 -0.038577      2.060930   \n",
      "2 -0.576677  1.184762  -0.128521      0.163779 -0.038577      0.547477   \n",
      "3 -0.439421  1.143550  -0.128521      0.163779  3.481550     -0.653819   \n",
      "4  0.112127  1.244087  -0.128521      1.390023 -0.038577      1.399810   \n",
      "\n",
      "   BsmtFinSF1  BsmtFinSF2  BsmtFinType1  BsmtFinType2  ...  SaleType_ConLw  \\\n",
      "0    0.779431   -0.355342      1.116589     -0.334107  ...       -0.058621   \n",
      "1    0.888257   -0.355342      0.631549     -0.334107  ...       -0.058621   \n",
      "2    0.654803   -0.355342      1.116589     -0.334107  ...       -0.058621   \n",
      "3    0.384539   -0.355342      0.631549     -0.334107  ...       -0.058621   \n",
      "4    0.754400   -0.355342      1.116589     -0.334107  ...       -0.058621   \n",
      "\n",
      "   SaleType_New  SaleType_Oth  SaleType_WD  SaleCondition_Abnorml  \\\n",
      "0     -0.301962     -0.045376     0.390293              -0.272616   \n",
      "1     -0.301962     -0.045376     0.390293              -0.272616   \n",
      "2     -0.301962     -0.045376     0.390293              -0.272616   \n",
      "3     -0.301962     -0.045376     0.390293               3.668167   \n",
      "4     -0.301962     -0.045376     0.390293              -0.272616   \n",
      "\n",
      "   SaleCondition_AdjLand  SaleCondition_Alloca  SaleCondition_Family  \\\n",
      "0              -0.052414             -0.091035             -0.117851   \n",
      "1              -0.052414             -0.091035             -0.117851   \n",
      "2              -0.052414             -0.091035             -0.117851   \n",
      "3              -0.052414             -0.091035             -0.117851   \n",
      "4              -0.052414             -0.091035             -0.117851   \n",
      "\n",
      "   SaleCondition_Normal  SaleCondition_Partial  \n",
      "0              0.467651              -0.305995  \n",
      "1              0.467651              -0.305995  \n",
      "2              0.467651              -0.305995  \n",
      "3             -2.138345              -0.305995  \n",
      "4              0.467651              -0.305995  \n",
      "\n",
      "[5 rows x 239 columns]\n"
     ]
    }
   ],
   "source": [
    "col = X_train.columns\n",
    "X_train = X_train.astype(float)\n",
    "scaler = StandardScaler()\n",
    "X_train = pd.DataFrame(scaler.fit_transform(X_train), columns = col)\n",
    "\n",
    "print(X_train.head())\n",
    "\n",
    "col = X_test.columns\n",
    "X_test = X_test.astype(float)\n",
    "scaler = StandardScaler()\n",
    "X_test = pd.DataFrame(scaler.fit_transform(X_test), columns = col)"
   ]
  },
  {
   "cell_type": "markdown",
   "metadata": {},
   "source": [
    "PCA transformation"
   ]
  },
  {
   "cell_type": "markdown",
   "metadata": {},
   "source": [
    "As the heapmap shows most of the correlations between two features are low, it's possible that PCA transformation/ decomposition\n",
    "cannot imrove performance, or even loss some information after PCA. Will still try the result to compare anyway."
   ]
  },
  {
   "cell_type": "code",
   "execution_count": 25,
   "metadata": {},
   "outputs": [
    {
     "name": "stdout",
     "output_type": "stream",
     "text": [
      "(1460, 239)\n",
      "<class 'numpy.ndarray'>\n"
     ]
    }
   ],
   "source": [
    "pca = PCA(200, whiten=True, random_state=42).fit(X_train)\n",
    "X_train_pca = pca.transform(X_train)\n",
    "X_test_pca = pca.transform(X_test)\n",
    "print(X_train.shape)\n",
    "print(type(X_train_pca))"
   ]
  },
  {
   "cell_type": "markdown",
   "metadata": {},
   "source": [
    "Discard polynomail features due to lack of data samples comparing number of features"
   ]
  },
  {
   "cell_type": "code",
   "execution_count": 26,
   "metadata": {},
   "outputs": [
    {
     "name": "stdout",
     "output_type": "stream",
     "text": [
      "(1460, 28920)\n",
      "0.1949388383401124\n"
     ]
    }
   ],
   "source": [
    "from sklearn.preprocessing import PolynomialFeatures\n",
    "from sklearn.linear_model import Ridge\n",
    "\n",
    "poly = PolynomialFeatures(degree = 2).fit(X_train)\n",
    "X_train_poly = poly.transform(X_train)\n",
    "X_test_poly = poly.transform(X_test)\n",
    "\n",
    "print(X_train_poly.shape)\n",
    "\n",
    "X_train_t, X_test_t, y_train_t, y_test_t = train_test_split(X_train_poly, y_train, test_size = 0.3, random_state = 42)\n",
    "\n",
    "# Apply Ridge (L2) to polynomial features\n",
    "ridge = Ridge(alpha = 1000).fit(X_train_t, y_train_t)\n",
    "\n",
    "pred = np.expm1(ridge.predict(X_test_t))\n",
    "print(rmlse(pred, y_test_t))"
   ]
  },
  {
   "cell_type": "code",
   "execution_count": 27,
   "metadata": {},
   "outputs": [],
   "source": [
    "X_train_t, X_test_t, y_train_t, y_test_t = train_test_split(X_train, y_train, test_size = 0.25, random_state = 42)\n",
    "\n",
    "# For PCA features\n",
    "X_train_t_pca, X_test_t_pca, y_train_t_pca, y_test_t_pca = train_test_split(X_train_pca, y_train, test_size = 0.25, random_state = 42)"
   ]
  },
  {
   "cell_type": "markdown",
   "metadata": {},
   "source": [
    "Linear Regression model with L2 regularization"
   ]
  },
  {
   "cell_type": "code",
   "execution_count": 28,
   "metadata": {},
   "outputs": [
    {
     "name": "stdout",
     "output_type": "stream",
     "text": [
      "0.13661380149924862\n"
     ]
    }
   ],
   "source": [
    "from sklearn.linear_model import LinearRegression\n",
    "\n",
    "ridge = Ridge(alpha = 1200).fit(X_train_t, y_train_t)\n",
    "pred = np.expm1(ridge.predict(X_test_t))\n",
    "print(rmlse(pred, y_test_t))"
   ]
  },
  {
   "cell_type": "markdown",
   "metadata": {},
   "source": [
    "Implement Tree algorithms - Random Forest"
   ]
  },
  {
   "cell_type": "markdown",
   "metadata": {},
   "source": [
    "Without PCA"
   ]
  },
  {
   "cell_type": "code",
   "execution_count": 29,
   "metadata": {},
   "outputs": [
    {
     "name": "stdout",
     "output_type": "stream",
     "text": [
      "0.144377262828692\n"
     ]
    }
   ],
   "source": [
    "from sklearn.ensemble import RandomForestRegressor\n",
    "\n",
    "clf = RandomForestRegressor(max_depth = 20, random_state = 42, n_estimators = 100)\n",
    "rf = clf.fit(X_train_t, y_train_t)\n",
    "pred = np.expm1(rf.predict(X_test_t))\n",
    "print(rmlse(pred, y_test_t))"
   ]
  },
  {
   "cell_type": "markdown",
   "metadata": {},
   "source": [
    "With PCA"
   ]
  },
  {
   "cell_type": "code",
   "execution_count": 30,
   "metadata": {},
   "outputs": [
    {
     "name": "stdout",
     "output_type": "stream",
     "text": [
      "0.1691094468138285\n"
     ]
    }
   ],
   "source": [
    "clf = RandomForestRegressor(max_depth = 20, random_state = 42, n_estimators = 100)\n",
    "rf = clf.fit(X_train_t_pca, y_train_t_pca)\n",
    "pred = np.expm1(rf.predict(X_test_t_pca))\n",
    "print(rmlse(pred, y_test_t_pca))"
   ]
  },
  {
   "cell_type": "markdown",
   "metadata": {},
   "source": [
    "The result for PCA meet the earlier guess - PCA does not help to improve the performance in this project, so will not apply PCA."
   ]
  },
  {
   "cell_type": "markdown",
   "metadata": {},
   "source": [
    "\n",
    "XG-Boost algorithm"
   ]
  },
  {
   "cell_type": "code",
   "execution_count": 31,
   "metadata": {},
   "outputs": [
    {
     "name": "stdout",
     "output_type": "stream",
     "text": [
      "[21:56:11] WARNING: src/objective/regression_obj.cu:152: reg:linear is now deprecated in favor of reg:squarederror.\n"
     ]
    },
    {
     "data": {
      "text/plain": [
       "0.12892279900319936"
      ]
     },
     "execution_count": 31,
     "metadata": {},
     "output_type": "execute_result"
    }
   ],
   "source": [
    "import xgboost as xgb\n",
    "import warnings\n",
    "warnings.simplefilter(action='ignore', category=FutureWarning)\n",
    "\n",
    "clf = xgb.XGBRegressor(n_estimators=340, max_depth=2, learning_rate=0.1)\n",
    "xgb = clf.fit(X_train_t, y_train_t)\n",
    "#score=cross_val_score(clf, X_train, y_train, cv=k_fold)\n",
    "\n",
    "pred = np.expm1(xgb.predict(X_test_t))\n",
    "rmlse(pred, y_test_t)"
   ]
  },
  {
   "cell_type": "code",
   "execution_count": 32,
   "metadata": {},
   "outputs": [],
   "source": [
    "pred = np.expm1(xgb.predict(X_test))\n",
    "np.savetxt('D:\\ML\\Kaggle projects\\House Prices Advanced Regression Techniques\\predict.csv', pred)"
   ]
  },
  {
   "cell_type": "markdown",
   "metadata": {},
   "source": [
    "The score (RMSLE) based on XG-Boost in this file is 0.13515 on Kaggle."
   ]
  }
 ],
 "metadata": {
  "kernelspec": {
   "display_name": "Python 3",
   "language": "python",
   "name": "python3"
  },
  "language_info": {
   "codemirror_mode": {
    "name": "ipython",
    "version": 3
   },
   "file_extension": ".py",
   "mimetype": "text/x-python",
   "name": "python",
   "nbconvert_exporter": "python",
   "pygments_lexer": "ipython3",
   "version": "3.7.3"
  }
 },
 "nbformat": 4,
 "nbformat_minor": 2
}
